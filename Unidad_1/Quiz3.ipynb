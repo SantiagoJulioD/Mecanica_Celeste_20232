{
 "cells": [
  {
   "cell_type": "markdown",
   "id": "4878b0fc-4ec1-4515-b906-352b0a66dc9b",
   "metadata": {},
   "source": [
    "Partiendo de la posición y velocidad de Júpiter el día, mes y año de su cumpleaños a la media noche, calcular, usando el método de Euler y el método de Verlet, la posición y velocidad de Júpiter 10 día después. Compare el resultado con el valor obtenido con Astroquery para ese mismo día.  No cambie las unidades de au y días a metros y segundos y para el parámetro gravitacional del Sol use el valor 0.0002959122 au³/d²"
   ]
  },
  {
   "cell_type": "code",
   "execution_count": 62,
   "id": "60c12c77-932b-48f4-a9f3-8be0b490c68b",
   "metadata": {},
   "outputs": [
    {
     "name": "stdout",
     "output_type": "stream",
     "text": [
      "———————————————————————————————————————— Astroquery ————————————————————————————————————————\n",
      "La posición de Júpiter el 2003-02-04 00:00 es r=[-3.63449351  3.86885522  0.06528207] AU \n",
      "\n",
      "La velocidad de Júpiter el 2003-02-04 00:00 es v=[-0.00559425 -0.0048084   0.00014515] AU/d\n",
      "———————————————————————————————————————— Euler ————————————————————————————————————————\n",
      "*La posición de Júpiter por el método de Euler el 2003-02-04 00:00 es r=[-3.63485013  3.8692326   0.06528812] AU\n",
      " y su diferencia relativa con la posición real es de [0.00981205 0.00975434 0.00926524] %\n",
      "\n",
      "*La velocidad de Júpiter por el método de Euler el 2003-02-04 00:00 es v=[-0.00559455 -0.00481052  0.00014511] AU/d\n",
      " y su diferencia relativa con la velocidad real es de [0.00536235 0.04396474 0.02773044] %\n",
      "———————————————————————————————————————— Verlet ————————————————————————————————————————\n",
      "*La posición de Júpiter por el método de Verlet el 2003-02-04 00:00 es r=[-3.63414257  3.86845754  0.06527551] AU\n",
      " y su diferencia relativa con la posición real es de [0.00965578 0.010279   0.0100592 ] %\n",
      "\n",
      "*La velocidad de Júpiter por el método de Verlet el 2003-02-04 00:00 es v=[-0.00559455 -0.00481052  0.00014511] AU/d\n",
      " y su diferencia relativa con la velocidad real es de [0.00536235 0.04396474 0.02773044] %\n"
     ]
    }
   ],
   "source": [
    "!pip install -q pymcel\n",
    "\n",
    "from astroquery.jplhorizons import Horizons\n",
    "import numpy as np\n",
    "\n",
    "# —— Fechas ——\n",
    "date0={'start':'2003-01-25 00:00','stop':'2003-01-25 00:01','step':'1d'}\n",
    "datef={'start':'2003-02-04 00:00','stop':'2003-02-04 00:01','step':'1d'}\n",
    "\n",
    "# —— Posiciones inicial y final de Júpiter ——\n",
    "rjup=np.array(Horizons(id='599',location='@0',epochs=date0).vectors().to_pandas()[['x','y','z']])[0]\n",
    "rjup_fin=np.array(Horizons(id='599',location='@0',epochs=datef).vectors().to_pandas()[['x','y','z']])[0]\n",
    "\n",
    "# —— Velocidades inicial y final de Júpiter\n",
    "vjup=np.array(Horizons(id='599',location='@0',epochs=date0).vectors().to_pandas()[['vx','vy','vz']])[0]\n",
    "vjup_fin=np.array(Horizons(id='599',location='@0',epochs=datef).vectors().to_pandas()[['vx','vy','vz']])[0]\n",
    "\n",
    "# —— Posición inicial del Sol ——\n",
    "rsol=np.array(Horizons(id='10',location='@0',epochs=date0).vectors().to_pandas()[['x','y','z']])[0]\n",
    "\n",
    "# —— Parámetros del sistema ——\n",
    "Δt=10  # días\n",
    "μsol=0.0002959122 # AU³/d²\n",
    "rijs0=rjup-rsol\n",
    "rij0=np.linalg.norm(rijs0)\n",
    "\n",
    "# —— Euler ——\n",
    "rjup_fin_e=rjup+vjup*Δt\n",
    "vjup_fin_e=vjup-μsol/(rij0**3)*rijs0*Δt\n",
    "\n",
    "# —— Verlet ——\n",
    "vjup_fin_v=vjup_fin_e\n",
    "rjup_fin_v=rjup+vjup_fin_v*Δt\n",
    "\n",
    "# —— Resultados ——\n",
    "print('—'*40+' Astroquery '+'—'*40)\n",
    "print(f'La posición de Júpiter el {datef[\"start\"]} es r={rjup_fin} AU \\n')\n",
    "print(f'La velocidad de Júpiter el {datef[\"start\"]} es v={vjup_fin} AU/d')\n",
    "print('—'*40+' Euler '+'—'*40)\n",
    "print(f'*La posición de Júpiter por el método de Euler el {datef[\"start\"]} es r={rjup_fin_e} AU\\n y su diferencia relativa con la posición real es de {np.abs(rjup_fin_e-rjup_fin)*(100/np.abs(rjup_fin))} %\\n')\n",
    "print(f'*La velocidad de Júpiter por el método de Euler el {datef[\"start\"]} es v={vjup_fin_e} AU/d\\n y su diferencia relativa con la velocidad real es de {np.abs(vjup_fin_e-vjup_fin)*(100/np.abs(vjup_fin))} %')\n",
    "print('—'*40+' Verlet '+'—'*40)\n",
    "print(f'*La posición de Júpiter por el método de Verlet el {datef[\"start\"]} es r={rjup_fin_v} AU\\n y su diferencia relativa con la posición real es de {np.abs(rjup_fin_v-rjup_fin)*(100/np.abs(rjup_fin))} %\\n')\n",
    "print(f'*La velocidad de Júpiter por el método de Verlet el {datef[\"start\"]} es v={vjup_fin_v} AU/d\\n y su diferencia relativa con la velocidad real es de {np.abs(vjup_fin_v-vjup_fin)*(100/np.abs(vjup_fin))} %')"
   ]
  },
  {
   "cell_type": "code",
   "execution_count": 54,
   "id": "d28de6da-a1e3-4f1b-9424-7f17a333c941",
   "metadata": {},
   "outputs": [
    {
     "data": {
      "text/plain": [
       "array([3.56618230e-04, 3.77381186e-04, 6.04853788e-06])"
      ]
     },
     "execution_count": 54,
     "metadata": {},
     "output_type": "execute_result"
    }
   ],
   "source": []
  },
  {
   "cell_type": "code",
   "execution_count": null,
   "id": "f7389b35-f969-415c-9bed-bf0b7a196ecd",
   "metadata": {},
   "outputs": [],
   "source": []
  }
 ],
 "metadata": {
  "kernelspec": {
   "display_name": "Python 3 (ipykernel)",
   "language": "python",
   "name": "python3"
  },
  "language_info": {
   "codemirror_mode": {
    "name": "ipython",
    "version": 3
   },
   "file_extension": ".py",
   "mimetype": "text/x-python",
   "name": "python",
   "nbconvert_exporter": "python",
   "pygments_lexer": "ipython3",
   "version": "3.9.7"
  }
 },
 "nbformat": 4,
 "nbformat_minor": 5
}
